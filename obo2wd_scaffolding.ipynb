{
 "cells": [
  {
   "cell_type": "markdown",
   "source": [
    "# Install libraries"
   ],
   "metadata": {
    "collapsed": false,
    "pycharm": {
     "name": "#%% md\n"
    }
   }
  },
  {
   "cell_type": "code",
   "source": [
    "%%capture\n",
    "!pip install wikidataintegrator\n",
    "!pip install graphviz"
   ],
   "metadata": {
    "collapsed": false,
    "pycharm": {
     "name": "#%%\n"
    }
   },
   "execution_count": 35,
   "outputs": []
  },
  {
   "cell_type": "markdown",
   "source": [
    "# Import libraries and source data"
   ],
   "metadata": {
    "collapsed": false,
    "pycharm": {
     "name": "#%% md\n"
    }
   }
  },
  {
   "cell_type": "code",
   "execution_count": 37,
   "metadata": {
    "id": "fcMsdV_ygYFC"
   },
   "outputs": [],
   "source": [
    "from wikidataintegrator import wdi_core, wdi_login\n",
    "import json\n",
    "import copy\n",
    "from datetime import datetime\n",
    "import requests\n",
    "import graphviz\n",
    "ontologies = json.loads(requests.get(\"https://obofoundry.org/registry/ontologies.jsonld\").text)"
   ]
  },
  {
   "cell_type": "markdown",
   "source": [
    "# Set QID and Graphviz constants"
   ],
   "metadata": {
    "collapsed": false,
    "pycharm": {
     "name": "#%% md\n"
    }
   }
  },
  {
   "cell_type": "code",
   "execution_count": 48,
   "metadata": {},
   "outputs": [],
   "source": [
    "timeStringNow = datetime.now().strftime(\"+%Y-%m-%dT00:00:00Z\")\n",
    "refRetrieved = wdi_core.WDTime(timeStringNow, prop_nr=\"P813\", is_reference=True)\n",
    "obo_reference = wdi_core.WDUrl(value=\"https://obofoundry.org/\", prop_nr=\"P854\", is_reference=True)\n",
    "obo_data_link = wdi_core.WDUrl(value=\"https://obofoundry.org/registry/ontologies.jsonld\", prop_nr=\"P854\", is_reference=True)\n",
    "obo_reference = [obo_reference, obo_data_link, refRetrieved]\n",
    "\n",
    "# Graphviz\n",
    "symbol = dict()\n",
    "symbol[\"wditem\"] = \"oval\"\n",
    "symbol[\"datatype\"] = \"octagon\"\n",
    "symbol[\"string\"] = \"rectangle\"\n",
    "symbol[\"entityschema\"]=\"diamond\"\n",
    "symbol[\"oneof\"]='record'\n",
    "symbol[\"bnode\"]='point'"
   ]
  },
  {
   "cell_type": "markdown",
   "metadata": {
    "id": "NMVbMaWmUfEd"
   },
   "source": [
    "# Get licenses and their QIDS"
   ]
  },
  {
   "cell_type": "code",
   "execution_count": 28,
   "metadata": {
    "colab": {
     "base_uri": "https://localhost:8080/"
    },
    "id": "a85wK0wkUdih",
    "outputId": "f7ca2e96-1572-4517-9d89-1bfd144ede72"
   },
   "outputs": [
    {
     "name": "stdout",
     "output_type": "stream",
     "text": [
      "\n",
      "                        SELECT * WHERE {\n",
      "                            ?item wdt:P2888 <https://creativecommons.org/licenses/by/4.0/>  ;\n",
      "                        }\n",
      "\n",
      "                        SELECT * WHERE {\n",
      "                            ?item wdt:P2888 <http://creativecommons.org/licenses/by/3.0/>  ;\n",
      "                        }\n",
      "\n",
      "                        SELECT * WHERE {\n",
      "                            ?item wdt:P2888 <https://creativecommons.org/publicdomain/zero/1.0/>  ;\n",
      "                        }\n",
      "\n",
      "                        SELECT * WHERE {\n",
      "                            ?item wdt:P2888 <https://creativecommons.org/licenses/by/2.0/>  ;\n",
      "                        }\n",
      "\n",
      "                        SELECT * WHERE {\n",
      "                            ?item wdt:P2888 <http://www.apache.org/licenses/LICENSE-2.0>  ;\n",
      "                        }\n",
      "\n",
      "                        SELECT * WHERE {\n",
      "                            ?item wdt:P2888 <https://hpo.jax.org/app/license>  ;\n",
      "                        }\n",
      "\n",
      "                        SELECT * WHERE {\n",
      "                            ?item wdt:P2888 <http://opensource.org/licenses/Artistic-2.0>  ;\n",
      "                        }\n",
      "\n",
      "                        SELECT * WHERE {\n",
      "                            ?item wdt:P2888 <https://www.gnu.org/licenses/gpl-3.0.en.html>  ;\n",
      "                        }\n"
     ]
    },
    {
     "data": {
      "text/plain": "{'CC BY 4.0': {'url': 'https://creativecommons.org/licenses/by/4.0/',\n  'qid': 'http://www.wikidata.org/entity/Q20007257'},\n 'CC BY 3.0': {'url': 'http://creativecommons.org/licenses/by/3.0/',\n  'qid': 'http://www.wikidata.org/entity/Q14947546'},\n 'CC0 1.0': {'url': 'https://creativecommons.org/publicdomain/zero/1.0/',\n  'qid': 'http://www.wikidata.org/entity/Q6938433'},\n 'CC BY 2.0': {'url': 'https://creativecommons.org/licenses/by/2.0/',\n  'qid': 'http://www.wikidata.org/entity/Q19125117'},\n 'Apache 2.0 License': {'url': 'http://www.apache.org/licenses/LICENSE-2.0',\n  'qid': 'http://www.wikidata.org/entity/Q13785927'},\n 'hpo': {'url': 'https://hpo.jax.org/app/license',\n  'qid': 'http://www.wikidata.org/entity/Q112817130'},\n 'Artistic License 2.0': {'url': 'http://opensource.org/licenses/Artistic-2.0',\n  'qid': 'http://www.wikidata.org/entity/Q14624826'},\n 'GPL-3.0': {'url': 'https://www.gnu.org/licenses/gpl-3.0.en.html',\n  'qid': 'http://www.wikidata.org/entity/Q10513445'}}"
     },
     "execution_count": 28,
     "metadata": {},
     "output_type": "execute_result"
    }
   ],
   "source": [
    "licensesQids = dict()\n",
    "for ontology in ontologies[\"ontologies\"]:\n",
    "  if \"license\" in ontology.keys():\n",
    "   if ontology[\"license\"][\"label\"] not in licensesQids.keys():\n",
    "        try:\n",
    "            licensesQids[ontology[\"license\"][\"label\"]] = dict()\n",
    "            licensesQids[ontology[\"license\"][\"label\"]][\"url\"] = ontology[\"license\"][\"url\"]\n",
    "            query = f\"\"\"\n",
    "                        SELECT * WHERE {{\n",
    "                            ?item wdt:P2888 <{ontology[\"license\"][\"url\"]}>  ;\n",
    "                        }}\"\"\"\n",
    "            results = wdi_core.WDFunctionsEngine.execute_sparql_query(query)\n",
    "            print(query)\n",
    "            licensesQids[ontology[\"license\"][\"label\"]][\"qid\"] = results[\"results\"][\"bindings\"][0][\"item\"][\"value\"]\n",
    "        except:\n",
    "            print(\"mismatch\")\n",
    "licensesQids"
   ]
  },
  {
   "cell_type": "markdown",
   "source": [
    "# Build Wikidata statements for a single OBO ontology"
   ],
   "metadata": {
    "collapsed": false,
    "pycharm": {
     "name": "#%% md\n"
    }
   }
  },
  {
   "cell_type": "code",
   "execution_count": 54,
   "metadata": {
    "id": "uzWTch11g4-_"
   },
   "outputs": [
    {
     "data": {
      "text/plain": "'Digraph.gv.pdf'"
     },
     "execution_count": 54,
     "metadata": {},
     "output_type": "execute_result"
    }
   ],
   "source": [
    "#    if command == \"attr\":\n",
    "##        localviz.attr(arg1, shape=shape)\n",
    "#        schema.attr(arg1, shape=shape)\n",
    "#    if command == \"node\":\n",
    "#        localviz.node(arg1,label=label)\n",
    "#        schema.node(arg1,label=label)\n",
    "#    if command == \"edge\":\n",
    "#        localviz.edge(arg1, arg2, label=label)\n",
    "#        schema.edge(arg1, arg2, label=label)\n",
    "\n",
    "schema = graphviz.Digraph()\n",
    "schema.attr('node', shape=symbol['entityschema'])\n",
    "schema.node('oboontology',label=\"Ontology in OBO foundry\")\n",
    "schema.node('oboreference', label=\"reference\")\n",
    "schema.node('oborank', label=\"wikibase rank\")\n",
    "schema.attr('node', shape=symbol['wditem'])\n",
    "schema.node('Q324254', label=\"wd:Q324254 (ontology)\")\n",
    "schema.node('Q4117183', label=\"wd:Q4117183 (Open Biomedical Ontologies)\")\n",
    "schema.attr('node', shape=symbol['bnode'])\n",
    "schema.node('P31Q324254')\n",
    "schema.node('P361Q4117183')\n",
    "schema.node('P2888URI')\n",
    "schema.node('P1813String')\n",
    "schema.node('P275licenses')\n",
    "schema.attr('node', shape=symbol['datatype'])\n",
    "schema.node('P856URIvalue', label=\"URL\")\n",
    "schema.node('P2888URIvalue', label=\"URI\")\n",
    "schema.node('P1813Stringvalue', label=\"string\")\n",
    "schema.node('P5933twittervalue', label=\"string\")\n",
    "schema.attr('node', shape=symbol['oneof'])\n",
    "schema.node('P275licensesList', label='{ wd:Q20007257 (CC BY 4.0) | wd:Q14947546 (CC BY 3.0) | wd:Q6938433 (CC0 1.0) |wd:Q19125117 (CC BY 2.0) |wd:Q13785927 (Apache 2.0 License) |wd:Q112817130 (hpo) |wd:Q14624826 (Artistic License 2.0) |wd:Q10513445 (GPL-3.0) }')\n",
    "\n",
    "# P31\n",
    "schema.edge('oboontology', 'P31Q324254', label=\"p:P31 (instance of)\")\n",
    "schema.edge('P31Q324254', 'Q324254', label=\"ps:P31 (instance of (value)\")\n",
    "schema.edge('P31Q324254', 'oboreference', label=\"prov:wasDerivedFrom\")\n",
    "schema.edge('P361Q4117183', 'oborank', label=\"wikibase:rank\")\n",
    "\n",
    "# P361\n",
    "schema.edge('oboontology', 'P361Q4117183', label=\"p:P361 (part of)\")\n",
    "schema.edge('P361Q4117183', 'Q4117183', label=\"ps:P361 (part of value)\")\n",
    "schema.edge('P361Q4117183', 'oboreference', label=\"prov:wasDerivedFrom\")\n",
    "schema.edge('P361Q4117183', 'oborank', label=\"wikibase:rank\")\n",
    "\n",
    "# P856\n",
    "schema.edge('oboontology', 'P856URI', label=\"p:P856 (homepage)\")\n",
    "schema.edge('P856URI', 'P856URIvalue', label=\"ps:P856 (homepage value)\")\n",
    "schema.edge('P856URI', 'oboreference', label=\"prov:wasDerivedFrom\")\n",
    "schema.edge('P856URI', 'oborank', label=\"wikibase:rank\")\n",
    "\n",
    "# P2888\n",
    "schema.edge('oboontology', 'P2888URI', label=\"p:P2888 (exact match)\")\n",
    "schema.edge('P2888URI', 'P2888URIvalue', label=\"ps:P2888 (exact match)\")\n",
    "schema.edge('P2888URI', 'oboreference', label=\"prov:wasDerivedFrom\")\n",
    "schema.edge('P2888URI', 'oborank', label=\"wikibase:rank\")\n",
    "\n",
    "# P1813 (short name)\n",
    "schema.edge('oboontology', 'P1813String', label=\"p:P1813 (short name)\")\n",
    "schema.edge('P1813String', 'P1813Stringvalue', label=\"ps:P1813 (short name value)\")\n",
    "schema.edge('P1813String', 'oboreference', label=\"prov:wasDerivedFrom\")\n",
    "schema.edge('P1813String', 'oborank', label=\"wikibase:rank\")\n",
    "\n",
    "# P275 (license)\n",
    "schema.edge('oboontology', 'P275licenses', label=\"p:P275 (license)\")\n",
    "schema.edge('P275licenses', 'P275licensesList', label=\"ps:P1813 (short name value)\")\n",
    "schema.edge('P275licenses', 'oboreference', label=\"prov:wasDerivedFrom\")\n",
    "schema.edge('P275licenses', 'oborank', label=\"wikibase:rank\")\n",
    "\n",
    "# P5933 (twitter handle)\n",
    "schema.edge('oboontology', 'P5933twitter', label=\"p:P5933 (twitter)\")\n",
    "schema.edge('P5933twitter', 'P5933twittervalue', label=\"p:P5933 (twitter value)\")\n",
    "schema.edge('P5933twitter', 'oboreference', label=\"prov:wasDerivedFrom\")\n",
    "schema.edge('P5933twitter', 'oborank', label=\"wikibase:rank\")\n",
    "\n",
    "for ontology in ontologies[\"ontologies\"]:\n",
    "    schema.node('oboontology',label=\"Ontology in OBO foundry\")\n",
    "    statements = []\n",
    "    statements.append(wdi_core.WDItemID(value=\"Q324254\", prop_nr=\"P31\", references=[copy.deepcopy(obo_reference)]))\n",
    "    statements.append(wdi_core.WDItemID(value=\"Q4117183\", prop_nr=\"P361\", references=[copy.deepcopy(obo_reference)]))\n",
    "\n",
    "    if ontology[\"activity_status\"] == \"Active\":\n",
    "      # exact match\n",
    "      if \"homepage\" in ontology.keys():\n",
    "        if ontology[\"homepage\"]:\n",
    "          try:\n",
    "            statements.append(wdi_core.WDUrl(value=ontology[\"homepage\"], prop_nr=\"P856\", references=[copy.deepcopy(obo_reference)]))\n",
    "          except: \n",
    "            statements.append(wdi_core.WDUrl(value=\"https://\"+ontology[\"homepage\"], prop_nr=\"P856\", references=[copy.deepcopy(obo_reference)]))\n",
    "      if \"ontology_purl\" in ontology.keys():\n",
    "        statements.append(wdi_core.WDUrl(value=ontology[\"ontology_purl\"], prop_nr=\"P2888\", references=[copy.deepcopy(obo_reference)]))\n",
    "        #print(ontology[\"ontology_purl\"])\n",
    "      # short name\n",
    "      statements.append(wdi_core.WDMonolingualText(value=ontology[\"id\"], prop_nr=\"P1813\", language=\"mul\", references=[copy.deepcopy(obo_reference)]))\n",
    "      # license \n",
    "      if \"license\" in ontology.keys():\n",
    "        statements.append(wdi_core.WDItemID(value=licensesQids[ontology[\"license\"][\"label\"]][\"qid\"].replace(\"http://www.wikidata.org/entity/\", \"\"), prop_nr=\"P275\", references=[copy.deepcopy(obo_reference)]))\n",
    "      if \"twitter\" in ontology.keys():\n",
    "        statements.append(wdi_core.WDString(value=ontology[\"twitter\"], prop_nr=\"P5933\", references=[copy.deepcopy(obo_reference)]))\n",
    "schema.view()"
   ]
  },
  {
   "cell_type": "code",
   "execution_count": 57,
   "metadata": {
    "id": "AhKFntG7KoUk"
   },
   "outputs": [
    {
     "name": "stdout",
     "output_type": "stream",
     "text": [
      "ado Alzheimer's Disease Ontology 0 active\n",
      "apo Ascomycete phenotype ontology 0 active\n",
      "bco Biological Collections Ontology 0 active\n",
      "cdno Compositional Dietary Nutrition Ontology 0 active\n",
      "clo Cell Line Ontology 0 active\n",
      "cob Core Ontology for Biology and Biomedicine 0 active\n",
      "dron The Drug Ontology 0 active\n",
      "eupath VEuPathDB ontology 0 active\n",
      "foodon Food Ontology 0 active\n",
      "ontoneo Obstetric and Neonatal Ontology 0 active\n",
      "ro Relation Ontology 0 active\n",
      "so Sequence types and features ontology 0 active\n",
      "vbo Vertebrate Breed Ontology 0 active\n",
      "wbbt C. elegans Gross Anatomy Ontology 0 active\n",
      "wbls C. elegans development ontology 0 active\n",
      "eco Evidence ontology 0 active\n",
      "hp Human Phenotype Ontology 0 active\n",
      "kisao Kinetic Simulation Algorithm Ontology 0 active\n",
      "sbo Systems Biology Ontology 0 active\n",
      "scdo Sickle Cell Disease Ontology 0 active\n",
      "sibo Social Insect Behavior Ontology 0 orphaned\n",
      "vario Variation Ontology 0 orphaned\n",
      "ceph Cephalopod Ontology 0 inactive\n",
      "ehdaa2 Human developmental anatomy, abstract 0 inactive\n",
      "aao Amphibian gross anatomy 0 inactive\n",
      "adw Animal natural history and life history 0 inactive\n",
      "ato Amphibian taxonomy 0 inactive\n",
      "bila Bilateria anatomy 0 inactive\n",
      "bootstrep Gene Regulation Ontology 0 inactive\n",
      "cmf CranioMaxilloFacial ontology 0 inactive\n",
      "dc_cl Dendritic cell 0 inactive\n",
      "ehda Human developmental anatomy, timed version 0 inactive\n",
      "ehdaa Human developmental anatomy, abstract version 0 inactive\n",
      "epo Epidemiology Ontology 0 inactive\n",
      "ev eVOC (Expressed Sequence Annotation for Humans) 0 inactive\n",
      "fbsp Fly taxonomy 0 inactive\n",
      "flu Influenza Ontology 0 inactive\n",
      "gro Cereal Plant Gross Anatomy 0 inactive\n",
      "habronattus Habronattus courtship 0 inactive\n",
      "iev Event (INOH pathway ontology) 0 inactive\n",
      "imr Molecule role (INOH Protein name/family name ontology) 0 inactive\n",
      "ipr Protein Domains 0 inactive\n",
      "loggerhead Loggerhead nesting 0 inactive\n",
      "mao Multiple alignment 0 inactive\n",
      "mat Minimal anatomical terminology 0 inactive\n",
      "mo Microarray experimental conditions 0 inactive\n",
      "nif_cell NIF Cell 0 inactive\n",
      "nif_dysfunction NIF Dysfunction 0 inactive\n",
      "nif_grossanatomy NIF Gross Anatomy 0 inactive\n",
      "nmr NMR-instrument specific component of metabolomics investigations 0 inactive\n",
      "obo_rel OBO relationship types (legacy) 0 inactive\n",
      "ogi Ontology for genetic interval 0 inactive\n",
      "pd_st Platynereis stage ontology 0 inactive\n",
      "plo Plasmodium life cycle 0 inactive\n",
      "propreo Proteomics data and process provenance 0 inactive\n",
      "resid Protein covalent bond 0 inactive\n",
      "sep Sample processing and separation techniques 0 inactive\n",
      "sopharm Suggested Ontology for Pharmacogenomics 0 inactive\n",
      "tahe Terminology of Anatomy of Human Embryology 0 inactive\n",
      "tahh Terminology of Anatomy of Human Histology 0 inactive\n",
      "tao Teleost Anatomy Ontology 0 inactive\n",
      "vsao Vertebrate Skeletal Anatomy Ontology- 0 inactive\n",
      "ypo Yeast phenotypes 0 inactive\n",
      "zea Maize gross anatomy 0 inactive\n"
     ]
    }
   ],
   "source": [
    "for ontology in ontologies[\"ontologies\"]:\n",
    "  if \"homepage\" in ontology.keys():\n",
    "    query = f\" SELECT * WHERE {{?s ?p [?ps <{ontology['homepage']}> ;] . ?prop wikibase:claim ?p . }}\"\n",
    "    result = wdi_core.WDFunctionsEngine.execute_sparql_query(query)\n",
    "    if len(result[\"results\"][\"bindings\"]) ==0:\n",
    "      print(ontology[\"id\"], ontology[\"title\"], len(result[\"results\"][\"bindings\"]), ontology[\"activity_status\"])\n",
    "      #print(query)\n",
    "      for resultje in result[\"results\"][\"bindings\"]:\n",
    "        print(ontology[\"id\"], resultje[\"s\"][\"value\"])\n"
   ]
  },
  {
   "cell_type": "code",
   "execution_count": null,
   "metadata": {
    "colab": {
     "base_uri": "https://localhost:8080/"
    },
    "id": "DqNxCiIUJyrd",
    "outputId": "34e0ad25-0da3-4318-b838-dde4bee6154d",
    "pycharm": {
     "is_executing": true
    }
   },
   "outputs": [],
   "source": [
    "for ontology in ontologies[\"ontologies\"]:\n",
    "  if \"homepage\" in ontology.keys():\n",
    "    escape_quote_ontology = ontology['title'].replace(\"'\", \"\\\\'\")\n",
    "    \n",
    "    query = f\"\"\"\n",
    "             SELECT * WHERE {{\n",
    "                   {{?s rdfs:label '{escape_quote_ontology}'@en  . }}\n",
    "                   UNION \n",
    "                   {{?s skos:altLabel '{escape_quote_ontology}'@en .}}\n",
    "                   }}\"\"\"\n",
    "    result = wdi_core.WDFunctionsEngine.execute_sparql_query(query)\n",
    "\n",
    "    if (len(result[\"results\"][\"bindings\"])) == 0:\n",
    "      print(escape_quote_ontology, ontology['activity_status'])"
   ]
  },
  {
   "cell_type": "code",
   "execution_count": 58,
   "metadata": {
    "colab": {
     "base_uri": "https://localhost:8080/"
    },
    "id": "py1Y3gyylMcy",
    "outputId": "20f6d97f-39c0-4e20-a265-4f03ed4fcb6f"
   },
   "outputs": [
    {
     "name": "stdout",
     "output_type": "stream",
     "text": [
      "Mouse pathology ontology active\n",
      "ik kom hier\n",
      "Q114295705\n"
     ]
    },
    {
     "ename": "SystemExit",
     "evalue": "first write",
     "output_type": "error",
     "traceback": [
      "An exception has occurred, use %tb to see the full traceback.\n",
      "\u001B[0;31mSystemExit\u001B[0m\u001B[0;31m:\u001B[0m first write\n"
     ]
    },
    {
     "name": "stderr",
     "output_type": "stream",
     "text": [
      "/Users/andra/PycharmProjects/obo2wd/venv/lib/python3.8/site-packages/IPython/core/interactiveshell.py:3406: UserWarning: To exit: use 'exit', 'quit', or Ctrl-D.\n",
      "  warn(\"To exit: use 'exit', 'quit', or Ctrl-D.\", stacklevel=1)\n"
     ]
    }
   ],
   "source": [
    "import sys\n",
    "for ontology in ontologies[\"ontologies\"]:\n",
    "    if \"homepage\" in ontology.keys():\n",
    "        escape_quote_ontology = ontology['title'].replace(\"'\", \"\\\\'\")\n",
    "    query = f\"\"\"\n",
    "             SELECT * WHERE {{\n",
    "                   {{?s rdfs:label '{escape_quote_ontology}'@en  . }}\n",
    "                   UNION \n",
    "                   {{?s skos:altLabel '{escape_quote_ontology}'@en .}}\n",
    "                   }}\"\"\"\n",
    "    result = wdi_core.WDFunctionsEngine.execute_sparql_query(query)\n",
    "    if (len(result[\"results\"][\"bindings\"])) == 0:\n",
    "        print(escape_quote_ontology, ontology['activity_status'])\n",
    "        if ontology[\"activity_status\"] == \"active\":\n",
    "            print(\"ik kom hier\")\n",
    "            statements = []\n",
    "            statements.append(wdi_core.WDItemID(value=\"Q324254\", prop_nr=\"P31\", references=[copy.deepcopy(obo_reference)]))\n",
    "            statements.append(wdi_core.WDItemID(value=\"Q4117183\", prop_nr=\"P361\", references=[copy.deepcopy(obo_reference)]))\n",
    "        \n",
    "            # exact match\n",
    "            if \"homepage\" in ontology.keys():\n",
    "                if ontology[\"homepage\"]:\n",
    "                    try:\n",
    "                        statements.append(wdi_core.WDUrl(value=ontology[\"homepage\"], prop_nr=\"P856\", references=[copy.deepcopy(obo_reference)]))\n",
    "                    except: \n",
    "                        statements.append(wdi_core.WDUrl(value=\"https://\"+ontology[\"homepage\"], prop_nr=\"P856\", references=[copy.deepcopy(obo_reference)]))\n",
    "      \n",
    "            if \"ontology_purl\" in ontology.keys():\n",
    "                statements.append(wdi_core.WDUrl(value=ontology[\"ontology_purl\"], prop_nr=\"P2888\", references=[copy.deepcopy(obo_reference)]))\n",
    "      \n",
    "            # short name\n",
    "            statements.append(wdi_core.WDMonolingualText(value=ontology[\"id\"], prop_nr=\"P1813\", language=\"mul\", references=[copy.deepcopy(obo_reference)]))\n",
    "            # license \n",
    "            if \"license\" in ontology.keys():\n",
    "                statements.append(wdi_core.WDItemID(value=licensesQids[ontology[\"license\"][\"label\"]][\"qid\"].replace(\"http://www.wikidata.org/entity/\", \"\"), prop_nr=\"P275\", references=[copy.deepcopy(obo_reference)]))\n",
    "            if \"twitter\" in ontology.keys():\n",
    "                statements.append(wdi_core.WDString(value=ontology[\"twitter\"], prop_nr=\"P5933\", references=[copy.deepcopy(obo_reference)]))\n",
    "            \n",
    "            # publications\n",
    "            if \"publication\" in ontology.keys():\n",
    "                pmidquery = f\"\"\"SELECT * WHERE {{\n",
    "                               ?item wdt:P698 \"{ontology[\"publication\"][\"id\"].replace(\"https://www.ncbi.nlm.nih.gov/pubmed/\", \"\")}\" .\n",
    "                            }}\"\"\"\n",
    "                pmidresult = wdi_core.WDFunctionsEngine.execute_sparql_query(pmidquery)\n",
    "                for pmidqid in pmidresult[\"results\"][\"bindings\"]:\n",
    "                    statements.append(wdi_core.WDItemId(value=pmidqid[\"item\"][\"value\"].replace(\"http://www.wikidata.org/entity\", \"\"), prop_nr=\"P1343\", references=[copy.deepcopy(obo_reference)]))\n",
    "\n",
    "            item = wdi_core.WDItemEngine(new_item=True, data=statements)\n",
    "            escape_quote_ontology = ontology['title'].replace(\"'\", \"\\\\'\")\n",
    "            item.set_label(escape_quote_ontology, lang=\"en\")\n",
    "            item.set_description(\"ontology part of OBOFoundry\", lang=\"en\")\n",
    "            item.set_aliases(aliases=[ontology[\"id\"]], lang=\"en\")\n",
    "            print(item.write(login))\n",
    "            sys.exit(\"first write\")"
   ]
  },
  {
   "cell_type": "code",
   "execution_count": 59,
   "metadata": {
    "colab": {
     "base_uri": "https://localhost:8080/"
    },
    "id": "LMLyHZHIm6SS",
    "outputId": "7ac6136b-3a22-4bf3-f830-a2d8eceb41ca"
   },
   "outputs": [
    {
     "name": "stdout",
     "output_type": "stream",
     "text": [
      "login failed: The supplied credentials could not be authenticated.\n"
     ]
    },
    {
     "ename": "ValueError",
     "evalue": "login FAILED!!",
     "output_type": "error",
     "traceback": [
      "\u001B[0;31m---------------------------------------------------------------------------\u001B[0m",
      "\u001B[0;31mValueError\u001B[0m                                Traceback (most recent call last)",
      "Input \u001B[0;32mIn [59]\u001B[0m, in \u001B[0;36m<cell line: 3>\u001B[0;34m()\u001B[0m\n\u001B[1;32m      1\u001B[0m WDUSER \u001B[38;5;241m=\u001B[39m \u001B[38;5;124m\"\u001B[39m\u001B[38;5;124m\"\u001B[39m\n\u001B[1;32m      2\u001B[0m WDPASS \u001B[38;5;241m=\u001B[39m \u001B[38;5;124m\"\u001B[39m\u001B[38;5;124m\"\u001B[39m\n\u001B[0;32m----> 3\u001B[0m login \u001B[38;5;241m=\u001B[39m \u001B[43mwdi_login\u001B[49m\u001B[38;5;241;43m.\u001B[39;49m\u001B[43mWDLogin\u001B[49m\u001B[43m(\u001B[49m\u001B[43mWDUSER\u001B[49m\u001B[43m,\u001B[49m\u001B[43m \u001B[49m\u001B[43mWDPASS\u001B[49m\u001B[43m)\u001B[49m\n",
      "File \u001B[0;32m~/PycharmProjects/obo2wd/venv/lib/python3.8/site-packages/backoff/_sync.py:105\u001B[0m, in \u001B[0;36mretry_exception.<locals>.retry\u001B[0;34m(*args, **kwargs)\u001B[0m\n\u001B[1;32m     96\u001B[0m details \u001B[38;5;241m=\u001B[39m {\n\u001B[1;32m     97\u001B[0m     \u001B[38;5;124m\"\u001B[39m\u001B[38;5;124mtarget\u001B[39m\u001B[38;5;124m\"\u001B[39m: target,\n\u001B[1;32m     98\u001B[0m     \u001B[38;5;124m\"\u001B[39m\u001B[38;5;124margs\u001B[39m\u001B[38;5;124m\"\u001B[39m: args,\n\u001B[0;32m   (...)\u001B[0m\n\u001B[1;32m    101\u001B[0m     \u001B[38;5;124m\"\u001B[39m\u001B[38;5;124melapsed\u001B[39m\u001B[38;5;124m\"\u001B[39m: elapsed,\n\u001B[1;32m    102\u001B[0m }\n\u001B[1;32m    104\u001B[0m \u001B[38;5;28;01mtry\u001B[39;00m:\n\u001B[0;32m--> 105\u001B[0m     ret \u001B[38;5;241m=\u001B[39m \u001B[43mtarget\u001B[49m\u001B[43m(\u001B[49m\u001B[38;5;241;43m*\u001B[39;49m\u001B[43margs\u001B[49m\u001B[43m,\u001B[49m\u001B[43m \u001B[49m\u001B[38;5;241;43m*\u001B[39;49m\u001B[38;5;241;43m*\u001B[39;49m\u001B[43mkwargs\u001B[49m\u001B[43m)\u001B[49m\n\u001B[1;32m    106\u001B[0m \u001B[38;5;28;01mexcept\u001B[39;00m exception \u001B[38;5;28;01mas\u001B[39;00m e:\n\u001B[1;32m    107\u001B[0m     max_tries_exceeded \u001B[38;5;241m=\u001B[39m (tries \u001B[38;5;241m==\u001B[39m max_tries_value)\n",
      "File \u001B[0;32m~/PycharmProjects/obo2wd/venv/lib/python3.8/site-packages/wikidataintegrator/wdi_login.py:152\u001B[0m, in \u001B[0;36mWDLogin.__init__\u001B[0;34m(self, user, pwd, mediawiki_api_url, mediawiki_index_url, token_renew_period, use_clientlogin, consumer_key, consumer_secret, callback_url, user_agent, debug)\u001B[0m\n\u001B[1;32m    150\u001B[0m \u001B[38;5;28;01mif\u001B[39;00m r[\u001B[38;5;124m'\u001B[39m\u001B[38;5;124mlogin\u001B[39m\u001B[38;5;124m'\u001B[39m][\u001B[38;5;124m'\u001B[39m\u001B[38;5;124mresult\u001B[39m\u001B[38;5;124m'\u001B[39m] \u001B[38;5;241m!=\u001B[39m \u001B[38;5;124m'\u001B[39m\u001B[38;5;124mSuccess\u001B[39m\u001B[38;5;124m'\u001B[39m:\n\u001B[1;32m    151\u001B[0m     \u001B[38;5;28mprint\u001B[39m(\u001B[38;5;124m'\u001B[39m\u001B[38;5;124mlogin failed:\u001B[39m\u001B[38;5;124m'\u001B[39m, r[\u001B[38;5;124m'\u001B[39m\u001B[38;5;124mlogin\u001B[39m\u001B[38;5;124m'\u001B[39m][\u001B[38;5;124m'\u001B[39m\u001B[38;5;124mreason\u001B[39m\u001B[38;5;124m'\u001B[39m])\n\u001B[0;32m--> 152\u001B[0m     \u001B[38;5;28;01mraise\u001B[39;00m \u001B[38;5;167;01mValueError\u001B[39;00m(\u001B[38;5;124m'\u001B[39m\u001B[38;5;124mlogin FAILED!!\u001B[39m\u001B[38;5;124m'\u001B[39m)\n\u001B[1;32m    153\u001B[0m \u001B[38;5;28;01melif\u001B[39;00m debug:\n\u001B[1;32m    154\u001B[0m     \u001B[38;5;28mprint\u001B[39m(\u001B[38;5;124m'\u001B[39m\u001B[38;5;124mSuccessfully logged in as\u001B[39m\u001B[38;5;124m'\u001B[39m, r[\u001B[38;5;124m'\u001B[39m\u001B[38;5;124mlogin\u001B[39m\u001B[38;5;124m'\u001B[39m][\u001B[38;5;124m'\u001B[39m\u001B[38;5;124mlgusername\u001B[39m\u001B[38;5;124m'\u001B[39m])\n",
      "\u001B[0;31mValueError\u001B[0m: login FAILED!!"
     ]
    }
   ],
   "source": [
    "WDUSER = \"\"\n",
    "WDPASS = \"\"\n",
    "login = wdi_login.WDLogin(WDUSER, WDPASS)"
   ]
  },
  {
   "cell_type": "code",
   "execution_count": null,
   "metadata": {
    "colab": {
     "base_uri": "https://localhost:8080/"
    },
    "id": "pAVl4nSQg8f4",
    "outputId": "0f102df0-f4f0-4868-eb1a-0fa48e172cba",
    "pycharm": {
     "is_executing": true
    }
   },
   "outputs": [],
   "source": [
    "for ontology in ontologies[\"ontologies\"]:\n",
    "  if \"dependencies\" in ontology.keys():\n",
    "    for dependency in ontology[\"dependencies\"]:\n",
    "      print(ontology[\"id\"], dependency)"
   ]
  },
  {
   "cell_type": "code",
   "execution_count": 39,
   "outputs": [
    {
     "data": {
      "text/plain": "{'CC BY 4.0': {'url': 'https://creativecommons.org/licenses/by/4.0/',\n  'qid': 'http://www.wikidata.org/entity/Q20007257'},\n 'CC BY 3.0': {'url': 'http://creativecommons.org/licenses/by/3.0/',\n  'qid': 'http://www.wikidata.org/entity/Q14947546'},\n 'CC0 1.0': {'url': 'https://creativecommons.org/publicdomain/zero/1.0/',\n  'qid': 'http://www.wikidata.org/entity/Q6938433'},\n 'CC BY 2.0': {'url': 'https://creativecommons.org/licenses/by/2.0/',\n  'qid': 'http://www.wikidata.org/entity/Q19125117'},\n 'Apache 2.0 License': {'url': 'http://www.apache.org/licenses/LICENSE-2.0',\n  'qid': 'http://www.wikidata.org/entity/Q13785927'},\n 'hpo': {'url': 'https://hpo.jax.org/app/license',\n  'qid': 'http://www.wikidata.org/entity/Q112817130'},\n 'Artistic License 2.0': {'url': 'http://opensource.org/licenses/Artistic-2.0',\n  'qid': 'http://www.wikidata.org/entity/Q14624826'},\n 'GPL-3.0': {'url': 'https://www.gnu.org/licenses/gpl-3.0.en.html',\n  'qid': 'http://www.wikidata.org/entity/Q10513445'}}"
     },
     "execution_count": 39,
     "metadata": {},
     "output_type": "execute_result"
    }
   ],
   "source": [
    "licensesQids"
   ],
   "metadata": {
    "collapsed": false,
    "pycharm": {
     "name": "#%%\n"
    }
   }
  },
  {
   "cell_type": "code",
   "execution_count": 52,
   "outputs": [
    {
     "name": "stdout",
     "output_type": "stream",
     "text": [
      "{ wd:Q20007257 (CC BY 4.0) | wd:Q14947546 (CC BY 3.0) | wd:Q6938433 (CC0 1.0) | wd:Q19125117 (CC BY 2.0) | wd:Q13785927 (Apache 2.0 License) | wd:Q112817130 (hpo) | wd:Q14624826 (Artistic License 2.0) | wd:Q10513445 (GPL-3.0) | }"
     ]
    }
   ],
   "source": [
    "print(\"{ \", end=\"\")\n",
    "for license in licensesQids.keys():\n",
    "    print(licensesQids[license]['qid'].replace(\"http://www.wikidata.org/entity/\", \"wd:\")+\" (\"+license+\") | \", end=\"\")\n",
    "print(\"}\", end=\"\")"
   ],
   "metadata": {
    "collapsed": false,
    "pycharm": {
     "name": "#%%\n"
    }
   }
  },
  {
   "cell_type": "code",
   "execution_count": 56,
   "outputs": [
    {
     "name": "stdout",
     "output_type": "stream",
     "text": [
      "wd:Q20007257 # CC BY 4.0\n",
      "wd:Q14947546 # CC BY 3.0\n",
      "wd:Q6938433 # CC0 1.0\n",
      "wd:Q19125117 # CC BY 2.0\n",
      "wd:Q13785927 # Apache 2.0 License\n",
      "wd:Q112817130 # hpo\n",
      "wd:Q14624826 # Artistic License 2.0\n",
      "wd:Q10513445 # GPL-3.0\n"
     ]
    }
   ],
   "source": [
    "for license in licensesQids.keys():\n",
    "    print(licensesQids[license]['qid'].replace(\"http://www.wikidata.org/entity/\", \"wd:\")+\" # \"+license)"
   ],
   "metadata": {
    "collapsed": false,
    "pycharm": {
     "name": "#%%\n"
    }
   }
  },
  {
   "cell_type": "code",
   "execution_count": null,
   "outputs": [],
   "source": [],
   "metadata": {
    "collapsed": false,
    "pycharm": {
     "name": "#%%\n"
    }
   }
  }
 ],
 "metadata": {
  "colab": {
   "name": "Untitled92.ipynb",
   "provenance": []
  },
  "kernelspec": {
   "display_name": "Python 3 (ipykernel)",
   "language": "python",
   "name": "python3"
  },
  "language_info": {
   "codemirror_mode": {
    "name": "ipython",
    "version": 3
   },
   "file_extension": ".py",
   "mimetype": "text/x-python",
   "name": "python",
   "nbconvert_exporter": "python",
   "pygments_lexer": "ipython3",
   "version": "3.8.9"
  }
 },
 "nbformat": 4,
 "nbformat_minor": 1
}